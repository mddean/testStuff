{
 "cells": [
  {
   "cell_type": "markdown",
   "metadata": {},
   "source": [
    "# A First Example\n",
    "We want to get the daily closing stock prices from 2016 to 2020 for the major players in the distilled and blended liquor industry. These are Brown-Forman Corporation (BF-B), Diageo (DEO), Eastside Distilling (EAST), and MGP Ingredients (MGPI). After retrieving the data, we want to make a simple line plot for each company."
   ]
  },
  {
   "cell_type": "code",
   "execution_count": 1,
   "metadata": {},
   "outputs": [],
   "source": [
    "# We are going to use a package called 'yahooquery'\n",
    "# It pulls the data from Yahoo Finance.\n",
    "from yahooquery import Ticker\n",
    "\n",
    "%matplotlib inline"
   ]
  },
  {
   "cell_type": "code",
   "execution_count": 2,
   "metadata": {},
   "outputs": [],
   "source": [
    "# We create a Ticker object by passing it a list of four ticker symbols\n",
    "# The second parameter passed in tells the code to make requests to\n",
    "# Yahoo Finance asynchronously (need to do this for when querying\n",
    "# multiple ticker symbols).\n",
    "\n",
    "tickers = Ticker(\"BF-B DEO EAST MGPI\", asynchronous=True)"
   ]
  },
  {
   "cell_type": "code",
   "execution_count": 3,
   "metadata": {},
   "outputs": [
    {
     "data": {
      "text/html": [
       "<div>\n",
       "<style scoped>\n",
       "    .dataframe tbody tr th:only-of-type {\n",
       "        vertical-align: middle;\n",
       "    }\n",
       "\n",
       "    .dataframe tbody tr th {\n",
       "        vertical-align: top;\n",
       "    }\n",
       "\n",
       "    .dataframe thead th {\n",
       "        text-align: right;\n",
       "    }\n",
       "</style>\n",
       "<table border=\"1\" class=\"dataframe\">\n",
       "  <thead>\n",
       "    <tr style=\"text-align: right;\">\n",
       "      <th></th>\n",
       "      <th></th>\n",
       "      <th>high</th>\n",
       "      <th>volume</th>\n",
       "      <th>low</th>\n",
       "      <th>close</th>\n",
       "      <th>open</th>\n",
       "      <th>adjclose</th>\n",
       "      <th>dividends</th>\n",
       "      <th>splits</th>\n",
       "    </tr>\n",
       "    <tr>\n",
       "      <th>symbol</th>\n",
       "      <th>date</th>\n",
       "      <th></th>\n",
       "      <th></th>\n",
       "      <th></th>\n",
       "      <th></th>\n",
       "      <th></th>\n",
       "      <th></th>\n",
       "      <th></th>\n",
       "      <th></th>\n",
       "    </tr>\n",
       "  </thead>\n",
       "  <tbody>\n",
       "    <tr>\n",
       "      <th rowspan=\"5\" valign=\"top\">BF-B</th>\n",
       "      <th>2016-01-04</th>\n",
       "      <td>39.160000</td>\n",
       "      <td>3212750</td>\n",
       "      <td>38.004002</td>\n",
       "      <td>38.883999</td>\n",
       "      <td>39.007999</td>\n",
       "      <td>35.859585</td>\n",
       "      <td>0.0</td>\n",
       "      <td>0.0</td>\n",
       "    </tr>\n",
       "    <tr>\n",
       "      <th>2016-01-05</th>\n",
       "      <td>39.023998</td>\n",
       "      <td>2395500</td>\n",
       "      <td>38.484001</td>\n",
       "      <td>38.903999</td>\n",
       "      <td>38.832001</td>\n",
       "      <td>35.878017</td>\n",
       "      <td>0.0</td>\n",
       "      <td>0.0</td>\n",
       "    </tr>\n",
       "    <tr>\n",
       "      <th>2016-01-06</th>\n",
       "      <td>38.816002</td>\n",
       "      <td>3235000</td>\n",
       "      <td>38.015999</td>\n",
       "      <td>38.152000</td>\n",
       "      <td>38.459999</td>\n",
       "      <td>35.184528</td>\n",
       "      <td>0.0</td>\n",
       "      <td>0.0</td>\n",
       "    </tr>\n",
       "    <tr>\n",
       "      <th>2016-01-07</th>\n",
       "      <td>38.192001</td>\n",
       "      <td>2719750</td>\n",
       "      <td>37.240002</td>\n",
       "      <td>37.344002</td>\n",
       "      <td>37.728001</td>\n",
       "      <td>34.439365</td>\n",
       "      <td>0.0</td>\n",
       "      <td>0.0</td>\n",
       "    </tr>\n",
       "    <tr>\n",
       "      <th>2016-01-08</th>\n",
       "      <td>37.911999</td>\n",
       "      <td>1939750</td>\n",
       "      <td>37.112000</td>\n",
       "      <td>37.212002</td>\n",
       "      <td>37.512001</td>\n",
       "      <td>34.317635</td>\n",
       "      <td>0.0</td>\n",
       "      <td>0.0</td>\n",
       "    </tr>\n",
       "  </tbody>\n",
       "</table>\n",
       "</div>"
      ],
      "text/plain": [
       "                        high   volume        low      close       open  \\\n",
       "symbol date                                                              \n",
       "BF-B   2016-01-04  39.160000  3212750  38.004002  38.883999  39.007999   \n",
       "       2016-01-05  39.023998  2395500  38.484001  38.903999  38.832001   \n",
       "       2016-01-06  38.816002  3235000  38.015999  38.152000  38.459999   \n",
       "       2016-01-07  38.192001  2719750  37.240002  37.344002  37.728001   \n",
       "       2016-01-08  37.911999  1939750  37.112000  37.212002  37.512001   \n",
       "\n",
       "                    adjclose  dividends  splits  \n",
       "symbol date                                      \n",
       "BF-B   2016-01-04  35.859585        0.0     0.0  \n",
       "       2016-01-05  35.878017        0.0     0.0  \n",
       "       2016-01-06  35.184528        0.0     0.0  \n",
       "       2016-01-07  34.439365        0.0     0.0  \n",
       "       2016-01-08  34.317635        0.0     0.0  "
      ]
     },
     "execution_count": 3,
     "metadata": {},
     "output_type": "execute_result"
    }
   ],
   "source": [
    "# Get the daily stock price history starting January 1, 2016\n",
    "# and ending December 31, 2020. The result will be a pandas\n",
    "# DataFrame, which I am calling 'df'. We can look at the first\n",
    "# few rows using the .head() function.\n",
    "\n",
    "df = tickers.history(start=\"2016-01-01\", end=\"2020-12-31\")\n",
    "df.head()"
   ]
  },
  {
   "cell_type": "code",
   "execution_count": 4,
   "metadata": {},
   "outputs": [
    {
     "name": "stdout",
     "output_type": "stream",
     "text": [
      "<class 'pandas.core.frame.DataFrame'>\n",
      "MultiIndex: 4780 entries, ('BF-B', datetime.date(2016, 1, 4)) to ('MGPI', datetime.date(2020, 12, 30))\n",
      "Data columns (total 8 columns):\n",
      " #   Column     Non-Null Count  Dtype  \n",
      "---  ------     --------------  -----  \n",
      " 0   high       4780 non-null   float64\n",
      " 1   volume     4780 non-null   int64  \n",
      " 2   low        4780 non-null   float64\n",
      " 3   close      4780 non-null   float64\n",
      " 4   open       4780 non-null   float64\n",
      " 5   adjclose   4780 non-null   float64\n",
      " 6   dividends  4780 non-null   float64\n",
      " 7   splits     4780 non-null   float64\n",
      "dtypes: float64(7), int64(1)\n",
      "memory usage: 322.7+ KB\n"
     ]
    }
   ],
   "source": [
    "# Take a peek at what the dataframe looks like\n",
    "# We see can see all of the columns of the dataframe, along with how\n",
    "# how many rows there are as well as the datatype for each column.\n",
    "# Useful information!\n",
    "\n",
    "df.info()"
   ]
  },
  {
   "cell_type": "code",
   "execution_count": 5,
   "metadata": {},
   "outputs": [
    {
     "data": {
      "text/plain": [
       "MultiIndex([('BF-B', 2016-01-04),\n",
       "            ('BF-B', 2016-01-05),\n",
       "            ('BF-B', 2016-01-06),\n",
       "            ('BF-B', 2016-01-07),\n",
       "            ('BF-B', 2016-01-08),\n",
       "            ('BF-B', 2016-01-11),\n",
       "            ('BF-B', 2016-01-12),\n",
       "            ('BF-B', 2016-01-13),\n",
       "            ('BF-B', 2016-01-14),\n",
       "            ('BF-B', 2016-01-15),\n",
       "            ...\n",
       "            ('MGPI', 2020-12-16),\n",
       "            ('MGPI', 2020-12-17),\n",
       "            ('MGPI', 2020-12-18),\n",
       "            ('MGPI', 2020-12-21),\n",
       "            ('MGPI', 2020-12-22),\n",
       "            ('MGPI', 2020-12-23),\n",
       "            ('MGPI', 2020-12-24),\n",
       "            ('MGPI', 2020-12-28),\n",
       "            ('MGPI', 2020-12-29),\n",
       "            ('MGPI', 2020-12-30)],\n",
       "           names=['symbol', 'date'], length=4780)"
      ]
     },
     "execution_count": 5,
     "metadata": {},
     "output_type": "execute_result"
    }
   ],
   "source": [
    "# We can take a look at the index of the dataframe.\n",
    "# We have a MultiIndex -- this is also considered a hierarchal index.\n",
    "# Unfortunately, for our simple desire of a line plot, this type of index\n",
    "# makes it slightly more \"involved\" to get our graph\n",
    "\n",
    "df.index"
   ]
  },
  {
   "cell_type": "code",
   "execution_count": 6,
   "metadata": {},
   "outputs": [
    {
     "data": {
      "text/plain": [
       "Index(['high', 'volume', 'low', 'close', 'open', 'adjclose', 'dividends',\n",
       "       'splits'],\n",
       "      dtype='object')"
      ]
     },
     "execution_count": 6,
     "metadata": {},
     "output_type": "execute_result"
    }
   ],
   "source": [
    "# We can also list all of the columns of our dataframe\n",
    "df.columns"
   ]
  },
  {
   "cell_type": "code",
   "execution_count": 7,
   "metadata": {},
   "outputs": [
    {
     "data": {
      "text/html": [
       "<div>\n",
       "<style scoped>\n",
       "    .dataframe tbody tr th:only-of-type {\n",
       "        vertical-align: middle;\n",
       "    }\n",
       "\n",
       "    .dataframe tbody tr th {\n",
       "        vertical-align: top;\n",
       "    }\n",
       "\n",
       "    .dataframe thead th {\n",
       "        text-align: right;\n",
       "    }\n",
       "</style>\n",
       "<table border=\"1\" class=\"dataframe\">\n",
       "  <thead>\n",
       "    <tr style=\"text-align: right;\">\n",
       "      <th></th>\n",
       "      <th>high</th>\n",
       "      <th>volume</th>\n",
       "      <th>low</th>\n",
       "      <th>close</th>\n",
       "      <th>open</th>\n",
       "      <th>adjclose</th>\n",
       "      <th>dividends</th>\n",
       "      <th>splits</th>\n",
       "    </tr>\n",
       "    <tr>\n",
       "      <th>date</th>\n",
       "      <th></th>\n",
       "      <th></th>\n",
       "      <th></th>\n",
       "      <th></th>\n",
       "      <th></th>\n",
       "      <th></th>\n",
       "      <th></th>\n",
       "      <th></th>\n",
       "    </tr>\n",
       "  </thead>\n",
       "  <tbody>\n",
       "    <tr>\n",
       "      <th>2016-01-04</th>\n",
       "      <td>39.160000</td>\n",
       "      <td>3212750</td>\n",
       "      <td>38.004002</td>\n",
       "      <td>38.883999</td>\n",
       "      <td>39.007999</td>\n",
       "      <td>35.859585</td>\n",
       "      <td>0.0</td>\n",
       "      <td>0.0</td>\n",
       "    </tr>\n",
       "    <tr>\n",
       "      <th>2016-01-05</th>\n",
       "      <td>39.023998</td>\n",
       "      <td>2395500</td>\n",
       "      <td>38.484001</td>\n",
       "      <td>38.903999</td>\n",
       "      <td>38.832001</td>\n",
       "      <td>35.878017</td>\n",
       "      <td>0.0</td>\n",
       "      <td>0.0</td>\n",
       "    </tr>\n",
       "    <tr>\n",
       "      <th>2016-01-06</th>\n",
       "      <td>38.816002</td>\n",
       "      <td>3235000</td>\n",
       "      <td>38.015999</td>\n",
       "      <td>38.152000</td>\n",
       "      <td>38.459999</td>\n",
       "      <td>35.184528</td>\n",
       "      <td>0.0</td>\n",
       "      <td>0.0</td>\n",
       "    </tr>\n",
       "    <tr>\n",
       "      <th>2016-01-07</th>\n",
       "      <td>38.192001</td>\n",
       "      <td>2719750</td>\n",
       "      <td>37.240002</td>\n",
       "      <td>37.344002</td>\n",
       "      <td>37.728001</td>\n",
       "      <td>34.439365</td>\n",
       "      <td>0.0</td>\n",
       "      <td>0.0</td>\n",
       "    </tr>\n",
       "    <tr>\n",
       "      <th>2016-01-08</th>\n",
       "      <td>37.911999</td>\n",
       "      <td>1939750</td>\n",
       "      <td>37.112000</td>\n",
       "      <td>37.212002</td>\n",
       "      <td>37.512001</td>\n",
       "      <td>34.317635</td>\n",
       "      <td>0.0</td>\n",
       "      <td>0.0</td>\n",
       "    </tr>\n",
       "    <tr>\n",
       "      <th>...</th>\n",
       "      <td>...</td>\n",
       "      <td>...</td>\n",
       "      <td>...</td>\n",
       "      <td>...</td>\n",
       "      <td>...</td>\n",
       "      <td>...</td>\n",
       "      <td>...</td>\n",
       "      <td>...</td>\n",
       "    </tr>\n",
       "    <tr>\n",
       "      <th>2020-12-23</th>\n",
       "      <td>78.529999</td>\n",
       "      <td>587900</td>\n",
       "      <td>77.260002</td>\n",
       "      <td>77.580002</td>\n",
       "      <td>77.940002</td>\n",
       "      <td>77.580002</td>\n",
       "      <td>0.0</td>\n",
       "      <td>0.0</td>\n",
       "    </tr>\n",
       "    <tr>\n",
       "      <th>2020-12-24</th>\n",
       "      <td>78.089996</td>\n",
       "      <td>235800</td>\n",
       "      <td>76.720001</td>\n",
       "      <td>78.029999</td>\n",
       "      <td>77.419998</td>\n",
       "      <td>78.029999</td>\n",
       "      <td>0.0</td>\n",
       "      <td>0.0</td>\n",
       "    </tr>\n",
       "    <tr>\n",
       "      <th>2020-12-28</th>\n",
       "      <td>78.959999</td>\n",
       "      <td>631300</td>\n",
       "      <td>77.570000</td>\n",
       "      <td>78.349998</td>\n",
       "      <td>78.739998</td>\n",
       "      <td>78.349998</td>\n",
       "      <td>0.0</td>\n",
       "      <td>0.0</td>\n",
       "    </tr>\n",
       "    <tr>\n",
       "      <th>2020-12-29</th>\n",
       "      <td>79.180000</td>\n",
       "      <td>520700</td>\n",
       "      <td>78.220001</td>\n",
       "      <td>78.940002</td>\n",
       "      <td>79.010002</td>\n",
       "      <td>78.940002</td>\n",
       "      <td>0.0</td>\n",
       "      <td>0.0</td>\n",
       "    </tr>\n",
       "    <tr>\n",
       "      <th>2020-12-30</th>\n",
       "      <td>79.779999</td>\n",
       "      <td>446000</td>\n",
       "      <td>78.529999</td>\n",
       "      <td>78.680000</td>\n",
       "      <td>79.330002</td>\n",
       "      <td>78.680000</td>\n",
       "      <td>0.0</td>\n",
       "      <td>0.0</td>\n",
       "    </tr>\n",
       "  </tbody>\n",
       "</table>\n",
       "<p>1258 rows × 8 columns</p>\n",
       "</div>"
      ],
      "text/plain": [
       "                 high   volume        low      close       open   adjclose  \\\n",
       "date                                                                         \n",
       "2016-01-04  39.160000  3212750  38.004002  38.883999  39.007999  35.859585   \n",
       "2016-01-05  39.023998  2395500  38.484001  38.903999  38.832001  35.878017   \n",
       "2016-01-06  38.816002  3235000  38.015999  38.152000  38.459999  35.184528   \n",
       "2016-01-07  38.192001  2719750  37.240002  37.344002  37.728001  34.439365   \n",
       "2016-01-08  37.911999  1939750  37.112000  37.212002  37.512001  34.317635   \n",
       "...               ...      ...        ...        ...        ...        ...   \n",
       "2020-12-23  78.529999   587900  77.260002  77.580002  77.940002  77.580002   \n",
       "2020-12-24  78.089996   235800  76.720001  78.029999  77.419998  78.029999   \n",
       "2020-12-28  78.959999   631300  77.570000  78.349998  78.739998  78.349998   \n",
       "2020-12-29  79.180000   520700  78.220001  78.940002  79.010002  78.940002   \n",
       "2020-12-30  79.779999   446000  78.529999  78.680000  79.330002  78.680000   \n",
       "\n",
       "            dividends  splits  \n",
       "date                           \n",
       "2016-01-04        0.0     0.0  \n",
       "2016-01-05        0.0     0.0  \n",
       "2016-01-06        0.0     0.0  \n",
       "2016-01-07        0.0     0.0  \n",
       "2016-01-08        0.0     0.0  \n",
       "...               ...     ...  \n",
       "2020-12-23        0.0     0.0  \n",
       "2020-12-24        0.0     0.0  \n",
       "2020-12-28        0.0     0.0  \n",
       "2020-12-29        0.0     0.0  \n",
       "2020-12-30        0.0     0.0  \n",
       "\n",
       "[1258 rows x 8 columns]"
      ]
     },
     "execution_count": 7,
     "metadata": {},
     "output_type": "execute_result"
    }
   ],
   "source": [
    "# Let's look at Brown-Forman (because they make Woodford Reserve).\n",
    "# We can use the .loc() function to pull out just BF-B.\n",
    "df.loc[(\"BF-B\")]"
   ]
  },
  {
   "cell_type": "code",
   "execution_count": 8,
   "metadata": {},
   "outputs": [
    {
     "data": {
      "text/plain": [
       "<matplotlib.axes._subplots.AxesSubplot at 0x2202505ee88>"
      ]
     },
     "execution_count": 8,
     "metadata": {},
     "output_type": "execute_result"
    },
    {
     "data": {
      "image/png": "[encoded data removed]",
      "text/plain": [
       "<Figure size 432x288 with 1 Axes>"
      ]
     },
     "metadata": {
      "needs_background": "light"
     },
     "output_type": "display_data"
    }
   ],
   "source": [
    "# We can easily plot BF-B closing price over the 5-year period.\n",
    "# The pandas dataframe let's us plot directly with it ... pretty cool!\n",
    "df.loc[(\"BF-B\")].plot(y=\"close\")"
   ]
  },
  {
   "cell_type": "code",
   "execution_count": 9,
   "metadata": {},
   "outputs": [
    {
     "data": {
      "text/plain": [
       "<matplotlib.axes._subplots.AxesSubplot at 0x220267d97c8>"
      ]
     },
     "execution_count": 9,
     "metadata": {},
     "output_type": "execute_result"
    },
    {
     "data": {
      "image/png": "[encoded data removed]",
      "text/plain": [
       "<Figure size 432x288 with 1 Axes>"
      ]
     },
     "metadata": {
      "needs_background": "light"
     },
     "output_type": "display_data"
    }
   ],
   "source": [
    "# What happens if we try to plot the closing price for everything?\n",
    "# This plots only a single line ... \n",
    "df['close'].plot()"
   ]
  },
  {
   "cell_type": "markdown",
   "metadata": {},
   "source": [
    "## No Good\n",
    "That result does not look correct. I wanted to see 4 different lines, one for each ticker symbol. Instead, I got a single line. Here is where the <code>MultiIndex</code> on our original dataframe is causing us some pain.\n",
    "\n",
    "### One Approach to Fix\n",
    "Let's create a new <code>DataFrame</code> that stores the just the closing stock price over the 5-year period, but make each column one of the ticker symbols.\n",
    "\n",
    "#### Step 1.\n",
    "Pull out the closing stock price for BF-B as a <code>Series</code>, rename it, and make it a <code>DataFrame</code> called <code>myDF</code>.\n",
    "\n",
    "#### Step 2.\n",
    "Add DEO, EAST, and MGPI to <code>myDF</code> each as its only column, naming them correctly.\n",
    "\n",
    "#### Step 3.\n",
    "Look at our <code>myDF</code> to see what it looks like"
   ]
  },
  {
   "cell_type": "code",
   "execution_count": 10,
   "metadata": {},
   "outputs": [
    {
     "data": {
      "text/html": [
       "<div>\n",
       "<style scoped>\n",
       "    .dataframe tbody tr th:only-of-type {\n",
       "        vertical-align: middle;\n",
       "    }\n",
       "\n",
       "    .dataframe tbody tr th {\n",
       "        vertical-align: top;\n",
       "    }\n",
       "\n",
       "    .dataframe thead th {\n",
       "        text-align: right;\n",
       "    }\n",
       "</style>\n",
       "<table border=\"1\" class=\"dataframe\">\n",
       "  <thead>\n",
       "    <tr style=\"text-align: right;\">\n",
       "      <th></th>\n",
       "      <th>BF-B</th>\n",
       "      <th>DEO</th>\n",
       "      <th>EAST</th>\n",
       "      <th>MGPI</th>\n",
       "    </tr>\n",
       "    <tr>\n",
       "      <th>date</th>\n",
       "      <th></th>\n",
       "      <th></th>\n",
       "      <th></th>\n",
       "      <th></th>\n",
       "    </tr>\n",
       "  </thead>\n",
       "  <tbody>\n",
       "    <tr>\n",
       "      <th>2016-01-04</th>\n",
       "      <td>38.883999</td>\n",
       "      <td>107.750000</td>\n",
       "      <td>NaN</td>\n",
       "      <td>24.520000</td>\n",
       "    </tr>\n",
       "    <tr>\n",
       "      <th>2016-01-05</th>\n",
       "      <td>38.903999</td>\n",
       "      <td>108.349998</td>\n",
       "      <td>NaN</td>\n",
       "      <td>24.719999</td>\n",
       "    </tr>\n",
       "    <tr>\n",
       "      <th>2016-01-06</th>\n",
       "      <td>38.152000</td>\n",
       "      <td>107.220001</td>\n",
       "      <td>NaN</td>\n",
       "      <td>24.730000</td>\n",
       "    </tr>\n",
       "    <tr>\n",
       "      <th>2016-01-07</th>\n",
       "      <td>37.344002</td>\n",
       "      <td>104.699997</td>\n",
       "      <td>NaN</td>\n",
       "      <td>23.670000</td>\n",
       "    </tr>\n",
       "    <tr>\n",
       "      <th>2016-01-08</th>\n",
       "      <td>37.212002</td>\n",
       "      <td>104.580002</td>\n",
       "      <td>NaN</td>\n",
       "      <td>23.000000</td>\n",
       "    </tr>\n",
       "    <tr>\n",
       "      <th>...</th>\n",
       "      <td>...</td>\n",
       "      <td>...</td>\n",
       "      <td>...</td>\n",
       "      <td>...</td>\n",
       "    </tr>\n",
       "    <tr>\n",
       "      <th>2020-12-23</th>\n",
       "      <td>77.580002</td>\n",
       "      <td>158.660004</td>\n",
       "      <td>1.24</td>\n",
       "      <td>46.730000</td>\n",
       "    </tr>\n",
       "    <tr>\n",
       "      <th>2020-12-24</th>\n",
       "      <td>78.029999</td>\n",
       "      <td>159.350006</td>\n",
       "      <td>1.25</td>\n",
       "      <td>47.380001</td>\n",
       "    </tr>\n",
       "    <tr>\n",
       "      <th>2020-12-28</th>\n",
       "      <td>78.349998</td>\n",
       "      <td>159.820007</td>\n",
       "      <td>1.30</td>\n",
       "      <td>49.209999</td>\n",
       "    </tr>\n",
       "    <tr>\n",
       "      <th>2020-12-29</th>\n",
       "      <td>78.940002</td>\n",
       "      <td>163.220001</td>\n",
       "      <td>1.33</td>\n",
       "      <td>47.889999</td>\n",
       "    </tr>\n",
       "    <tr>\n",
       "      <th>2020-12-30</th>\n",
       "      <td>78.680000</td>\n",
       "      <td>161.820007</td>\n",
       "      <td>1.31</td>\n",
       "      <td>47.869999</td>\n",
       "    </tr>\n",
       "  </tbody>\n",
       "</table>\n",
       "<p>1258 rows × 4 columns</p>\n",
       "</div>"
      ],
      "text/plain": [
       "                 BF-B         DEO  EAST       MGPI\n",
       "date                                              \n",
       "2016-01-04  38.883999  107.750000   NaN  24.520000\n",
       "2016-01-05  38.903999  108.349998   NaN  24.719999\n",
       "2016-01-06  38.152000  107.220001   NaN  24.730000\n",
       "2016-01-07  37.344002  104.699997   NaN  23.670000\n",
       "2016-01-08  37.212002  104.580002   NaN  23.000000\n",
       "...               ...         ...   ...        ...\n",
       "2020-12-23  77.580002  158.660004  1.24  46.730000\n",
       "2020-12-24  78.029999  159.350006  1.25  47.380001\n",
       "2020-12-28  78.349998  159.820007  1.30  49.209999\n",
       "2020-12-29  78.940002  163.220001  1.33  47.889999\n",
       "2020-12-30  78.680000  161.820007  1.31  47.869999\n",
       "\n",
       "[1258 rows x 4 columns]"
      ]
     },
     "execution_count": 10,
     "metadata": {},
     "output_type": "execute_result"
    }
   ],
   "source": [
    "# Step 1.\n",
    "myDF = df.loc[\"BF-B\"][\"close\"].rename(\"BF-B\").to_frame()\n",
    "\n",
    "# Step 2.\n",
    "myDF[\"DEO\"] = df.loc[\"DEO\"][\"close\"]\n",
    "myDF[\"EAST\"] = df.loc[\"EAST\"][\"close\"]\n",
    "myDF[\"MGPI\"] = df.loc[\"MGPI\"][\"close\"]\n",
    "myDF"
   ]
  },
  {
   "cell_type": "markdown",
   "metadata": {},
   "source": [
    "## Time to Plot\n",
    "Let's use the package <code>seaborn</code> to plot the four time series. I'll set the style to <code>ticks</code> to clean up the plot a little. Additionally, we'll make the color palette colorblind-friendly. Finally, I <code>despine</code> the plot which is simply removing the top and right lines of the graph region."
   ]
  },
  {
   "cell_type": "code",
   "execution_count": 11,
   "metadata": {},
   "outputs": [
    {
     "data": {
      "image/png": "[encoded data removed]",
      "text/plain": [
       "<Figure size 432x288 with 1 Axes>"
      ]
     },
     "metadata": {},
     "output_type": "display_data"
    }
   ],
   "source": [
    "import seaborn as sns\n",
    "sns.set_style(\"ticks\")\n",
    "\n",
    "sns.lineplot(data=myDF, palette=\"colorblind\")\n",
    "sns.despine()"
   ]
  },
  {
   "cell_type": "markdown",
   "metadata": {},
   "source": [
    "## Some Additional Exploration\n",
    "A few more looks at the dataframe after it came back from our initial call to get the data"
   ]
  },
  {
   "cell_type": "raw",
   "metadata": {},
   "source": [
    "df.index.names[1]\n",
    "\n",
    "df.index.get_level_values(0)\n",
    "\n",
    "df.index.to_flat_index()\n",
    "\n",
    "df.index.droplevel([0])\n",
    "\n",
    "df.unstack(level=0).info()\n",
    "\n",
    "df.unstack(level=0)"
   ]
  }
 ],
 "metadata": {
  "kernelspec": {
   "display_name": "Python 3",
   "language": "python",
   "name": "python3"
  },
  "language_info": {
   "codemirror_mode": {
    "name": "ipython",
    "version": 3
   },
   "file_extension": ".py",
   "mimetype": "text/x-python",
   "name": "python",
   "nbconvert_exporter": "python",
   "pygments_lexer": "ipython3",
   "version": "3.7.6"
  }
 },
 "nbformat": 4,
 "nbformat_minor": 4
}
